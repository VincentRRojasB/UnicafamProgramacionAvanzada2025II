{
  "nbformat": 4,
  "nbformat_minor": 0,
  "metadata": {
    "colab": {
      "provenance": [],
      "authorship_tag": "ABX9TyOQkz1r0Xu2YmiDj8HQBsY/",
      "include_colab_link": true
    },
    "kernelspec": {
      "name": "python3",
      "display_name": "Python 3"
    },
    "language_info": {
      "name": "python"
    }
  },
  "cells": [
    {
      "cell_type": "markdown",
      "metadata": {
        "id": "view-in-github",
        "colab_type": "text"
      },
      "source": [
        "<a href=\"https://colab.research.google.com/github/VincentRRojasB/UnicafamProgramacionAvanzada2025II/blob/main/ManejodeErrores.ipynb\" target=\"_parent\"><img src=\"https://colab.research.google.com/assets/colab-badge.svg\" alt=\"Open In Colab\"/></a>"
      ]
    },
    {
      "cell_type": "markdown",
      "source": [
        "##**Manejo de Errores**\n",
        "Programación Avanzada\n",
        "\n",
        "Ingenieria Industrial\n",
        "\n",
        "Fundación Universitaria Cafam - Unicafam\n",
        "\n",
        "Facultad de Ingenieria y Ciencias Básicas\n",
        "\n",
        "Profesor: Nicolas Mojica\n",
        "\n",
        "Estudiante: Vincent R Rojas Bohórquez"
      ],
      "metadata": {
        "id": "ew2mTvXp9MWz"
      }
    },
    {
      "cell_type": "markdown",
      "source": [
        "Tipos de Errores:\n",
        "\n",
        "*  SyntaxError: Error de sintaxis en el código.\n",
        "\n",
        "*  TypeError: Operación o función aplicada a un tipo inapropiado.\n",
        "\n",
        "*  ValueError: Argumento con el tipo correcto pero valor inapropiado.\n",
        "\n",
        "*  IndexError: Índice fuera del rango de una lista o secuencia.\n",
        "\n",
        "*  KeyError: Clave que no existe en un diccionario.\n",
        "FileNotFoundError: Archivo no encontrado.\n",
        "\n",
        "*  ZeroDivisionError: División por cero.\n",
        "\n",
        "*  IOError: Problema de entrada/salida al leer o escribir archivos.\n",
        "\n",
        "*  AttributeError: Atributo que no existe en un objeto.\n",
        "\n",
        "*  ImportError: Módulo no encontrado al intentar importarlo.\n",
        "\n",
        "*  MemoryError: Agotamiento de memoria.\n",
        "\n",
        "*  OverflowError: Operación que excede el rango numérico.\n",
        ""
      ],
      "metadata": {
        "id": "1OldS3Z49eXw"
      }
    },
    {
      "cell_type": "markdown",
      "source": [
        "Objetivo: aprender a manejar los errores en la ejecución dentro de phyton"
      ],
      "metadata": {
        "id": "s1YKGp-S-y-k"
      }
    },
    {
      "cell_type": "markdown",
      "source": [
        "Manejo de tipos de errores"
      ],
      "metadata": {
        "id": "2As2s5BBDuI6"
      }
    },
    {
      "cell_type": "code",
      "execution_count": 2,
      "metadata": {
        "colab": {
          "base_uri": "https://localhost:8080/"
        },
        "id": "H1IA4o7l9Jt2",
        "outputId": "11134a43-720a-4850-a54e-c3f97388a9d4"
      },
      "outputs": [
        {
          "output_type": "stream",
          "name": "stdout",
          "text": [
            "No se puede dividir entre cero \n"
          ]
        }
      ],
      "source": [
        "# División sobre cero\n",
        "try:\n",
        "  resultado=10/0\n",
        "except ZeroDivisionError:                    # Acción que se ejecuto en caso de que el 'try' se halla identificado el error definido\n",
        " print('No se puede dividir entre cero ')"
      ]
    },
    {
      "cell_type": "code",
      "source": [
        "# Calculadora de Divisiones\n",
        "try:\n",
        "  a=int(input('Ingrese numerador: '))\n",
        "  b=int(input('Ingrese denominador: '))\n",
        "  c=a/b\n",
        "  print(f'El resultado de la división  {a} y {b} es: {c}')\n",
        "except ZeroDivisionError:                    # Acción que se ejecuto en caso de que el 'try' se halla identificado el error definido\n",
        " print('Error, no puedes dividir entre cero ')"
      ],
      "metadata": {
        "colab": {
          "base_uri": "https://localhost:8080/"
        },
        "id": "OEpu8sK5AnQW",
        "outputId": "2dc0089c-27e1-4493-99b0-4117741d671d"
      },
      "execution_count": 6,
      "outputs": [
        {
          "output_type": "stream",
          "name": "stdout",
          "text": [
            "Ingrese numerador: 2\n",
            "Ingrese denominador: 0\n",
            "Error, no puedes dividir entre cero \n"
          ]
        }
      ]
    },
    {
      "cell_type": "markdown",
      "source": [
        "Manejo de multiples errores"
      ],
      "metadata": {
        "id": "GuJZwH_ADm25"
      }
    },
    {
      "cell_type": "code",
      "source": [
        "# Calculadora de Divisiones\n",
        "try:                                                                 # 'try' probar codigo\n",
        "  a=int(input('Ingrese numerador: '))\n",
        "  b=int(input('Ingrese denominador: '))\n",
        "  c=a/b\n",
        "  print(f'El resultado de la división  {a} y {b} es: {c}')\n",
        "except ZeroDivisionError:\n",
        " print('Error, no puedes dividir entre cero ')\n",
        "except ValueError:\n",
        " print('No se puede colocar textos en esta división')"
      ],
      "metadata": {
        "colab": {
          "base_uri": "https://localhost:8080/"
        },
        "id": "4TGIiFwIB8Qf",
        "outputId": "f8269f46-c400-4d96-d3ac-0ccf1931d33d"
      },
      "execution_count": 8,
      "outputs": [
        {
          "output_type": "stream",
          "name": "stdout",
          "text": [
            "Ingrese numerador: vngc3\n",
            "No se puede colocar textos en esta división\n"
          ]
        }
      ]
    },
    {
      "cell_type": "markdown",
      "source": [
        "Manejo de Exepciones de manera general"
      ],
      "metadata": {
        "id": "Z0Ht7NmxEFhC"
      }
    },
    {
      "cell_type": "code",
      "source": [
        "# Calculadora de Divisiones\n",
        "try:\n",
        "  a=int(input('Ingrese numerador: '))\n",
        "  b=int(input('Ingrese denominador: '))\n",
        "  c=a/b\n",
        "  print(f'El resultado de la división  {a} y {b} es: {c}')\n",
        "except Exception as e:\n",
        "  print(f'Su error es {e}')"
      ],
      "metadata": {
        "colab": {
          "base_uri": "https://localhost:8080/"
        },
        "id": "89XqI7TWC6Vd",
        "outputId": "79897c72-7a52-4f0f-f79d-d9e1444a3181"
      },
      "execution_count": 10,
      "outputs": [
        {
          "output_type": "stream",
          "name": "stdout",
          "text": [
            "Ingrese numerador: dgd\n",
            "Su error es invalid literal for int() with base 10: 'dgd'\n"
          ]
        }
      ]
    },
    {
      "cell_type": "markdown",
      "source": [
        "Uso del Else y Finally"
      ],
      "metadata": {
        "id": "Fa5CtxlKIpqy"
      }
    },
    {
      "cell_type": "code",
      "source": [
        "# 'try' El bloque de codigo que quiero ejecutar\n",
        "# 'except' codigo a ejecutar en el caso de presentarse un error\n",
        "# 'else' codigo a ejecutar si el 'try' es exitoso\n",
        "# 'finally' Codigo a ejecutar tanto si es exitoso el 'try' o si no lo es\n",
        "try:\n",
        "  a=int(input('Ingrese numerador: '))\n",
        "  b=int(input('Ingrese denominador: '))\n",
        "  c=a/b\n",
        "  print(f'El resultado de la división  {a} y {b} es: {c}')\n",
        "except Exception as e:\n",
        "  print(f'Su error es {e}')\n",
        "else:\n",
        "  print('La división fue exitosa')\n",
        "finally:\n",
        "  print('La ejecución de esteprograma a terminado')"
      ],
      "metadata": {
        "colab": {
          "base_uri": "https://localhost:8080/"
        },
        "id": "FoPSOvTVE1hU",
        "outputId": "b250dc54-00b9-4465-8a25-27f5d10cd901"
      },
      "execution_count": 14,
      "outputs": [
        {
          "output_type": "stream",
          "name": "stdout",
          "text": [
            "Ingrese numerador: 2\n",
            "Ingrese denominador: 3\n",
            "El resultado de la división  2 y 3 es: 0.6666666666666666\n",
            "La división fue exitosa\n",
            "La ejecución de esteprograma a terminado\n"
          ]
        }
      ]
    },
    {
      "cell_type": "code",
      "source": [
        "def convertir_a_entero(texto):\n",
        "  cadena=int(texto)\n",
        "try:\n",
        "  cadena_usuario=str(input('Ingrese palabra    '))\n",
        "  convertir_a_entero(cadena_usuario)\n",
        "except ValueError:\n",
        "  print('No se puede convertir una cadena a entero')"
      ],
      "metadata": {
        "colab": {
          "base_uri": "https://localhost:8080/"
        },
        "id": "wsS5l7zCKDJd",
        "outputId": "4cab42b4-55da-4ac4-8cd0-3e1a17c183f7"
      },
      "execution_count": 16,
      "outputs": [
        {
          "name": "stdout",
          "output_type": "stream",
          "text": [
            "Ingrese palabra    1351\n"
          ]
        }
      ]
    },
    {
      "cell_type": "code",
      "source": [],
      "metadata": {
        "id": "OWsEfqxDOLH5"
      },
      "execution_count": null,
      "outputs": []
    }
  ]
}