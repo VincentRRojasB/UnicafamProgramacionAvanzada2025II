{
  "nbformat": 4,
  "nbformat_minor": 0,
  "metadata": {
    "colab": {
      "provenance": [],
      "authorship_tag": "ABX9TyO8lrcH9mvqjodlgMrakwcm",
      "include_colab_link": true
    },
    "kernelspec": {
      "name": "python3",
      "display_name": "Python 3"
    },
    "language_info": {
      "name": "python"
    }
  },
  "cells": [
    {
      "cell_type": "markdown",
      "metadata": {
        "id": "view-in-github",
        "colab_type": "text"
      },
      "source": [
        "<a href=\"https://colab.research.google.com/github/VincentRRojasB/UnicafamProgramacionAvanzada2025II/blob/main/TallerSegundoCorte.ipynb\" target=\"_parent\"><img src=\"https://colab.research.google.com/assets/colab-badge.svg\" alt=\"Open In Colab\"/></a>"
      ]
    },
    {
      "cell_type": "code",
      "source": [
        "# Ejercicio 1: Conversor de divisas Crea un programa que implemente una función llamada convertir(moneda, cantidad) que:\n",
        "# Reciba como parámetros una moneda (\"USD\" o \"EUR\") y una cantidad en pesos mexicanos.\n",
        "# Devuelva la conversión según tasas fijas (1 USD = 18.5 MXN, 1 EUR = 19.8 MXN).\n",
        "# Si se ingresa una moneda no válida, use raise para lanzar un error.\n",
        "# El programa debe pedir los datos al usuario con input() y manejar posibles errores de entrada.\n",
        "\n",
        "def convertir(moneda, cantidad):\n",
        "    tasas = {\n",
        "        \"USD\": 18.5,\n",
        "        \"EUR\": 19.8\n",
        "    }\n",
        "    try:\n",
        "        if moneda not in tasas:\n",
        "            raise ValueError(\"Moneda no válida. Usa 'USD' o 'EUR'.\")\n",
        "        return cantidad / tasas[moneda]\n",
        "    except Exception as e:\n",
        "        return f\"Error: {e}\"\n",
        "\n",
        "\n",
        "try:\n",
        "    moneda = input(\"Ingrese la moneda (USD o EUR): \").upper()\n",
        "    cantidad = float(input(\"Ingrese la cantidad en MXN: \"))\n",
        "    resultado = convertir(moneda, cantidad)\n",
        "    print(f\"Conversión: {resultado} {moneda}\")\n",
        "except ValueError:\n",
        "    print(\"Error: Debe ingresar un número válido en la cantidad.\")"
      ],
      "metadata": {
        "colab": {
          "base_uri": "https://localhost:8080/"
        },
        "id": "1UhxEC3WJPur",
        "outputId": "cffeaba8-99c9-49ff-f2c7-e76e46380c28"
      },
      "execution_count": null,
      "outputs": [
        {
          "output_type": "stream",
          "name": "stdout",
          "text": [
            "Ingrese la moneda (USD o EUR): usd\n",
            "Ingrese la cantidad en MXN: 15\n",
            "Conversión: 0.8108108108108109 USD\n"
          ]
        }
      ]
    },
    {
      "cell_type": "code",
      "source": [
        "# Ejercicio 2: Gestor de estudiantes Crea un programa que implemente una función llamada registrar_estudiante(nombre, edad, carrera) que:\n",
        "# Devuelva un diccionario con los datos del estudiante.\n",
        "# Antes de crear el registro, valide que la edad sea un número entero mayor que 0. Si no, use raise para lanzar un error.\n",
        "# El programa debe pedir los datos al usuario y mostrar el diccionario resultante.\n",
        "\n",
        "\n",
        "# Maneje los errores con try y except.\n",
        "def registrar_estudiante(nombre, edad, carrera):\n",
        "    if not nombre or not carrera:\n",
        "        raise ValueError(\"El nombre y la carrera no pueden estar vacíos.\")\n",
        "    if not isinstance(edad, int):\n",
        "        raise TypeError(\"La edad debe ser un número entero.\")\n",
        "\n",
        "    return {\n",
        "        \"nombre\": nombre,\n",
        "        \"edad\": edad,\n",
        "        \"carrera\": carrera\n",
        "    }\n",
        "\n",
        "# Programa principal\n",
        "estudiantes = {}\n",
        "\n",
        "try:\n",
        "    n = int(input(\"¿Cuántos estudiantes deseas registrar?: \"))\n",
        "    for i in range(n):\n",
        "        print(f\"\\nRegistro {i+1}:\")\n",
        "        nombre = input(\"Nombre: \")\n",
        "        edad = int(input(\"Edad: \"))\n",
        "        carrera = input(\"Carrera: \")\n",
        "\n",
        "        estudiante = registrar_estudiante(nombre, edad, carrera)\n",
        "        estudiantes[f\"estudiante_{i+1}\"] = estudiante\n",
        "\n",
        "    print(\"\\nDiccionario de estudiantes registrado:\")\n",
        "    print(estudiantes)\n",
        "\n",
        "except ValueError as ve:\n",
        "    print(f\"Error de valor: {ve}\")\n",
        "except TypeError as te:\n",
        "    print(f\"Error de tipo: {te}\")\n",
        "except Exception as e:\n",
        "    print(f\"Ocurrió un error inesperado: {e}\")"
      ],
      "metadata": {
        "id": "p5XDSYImJXjb"
      },
      "execution_count": null,
      "outputs": []
    },
    {
      "cell_type": "code",
      "execution_count": null,
      "metadata": {
        "colab": {
          "base_uri": "https://localhost:8080/"
        },
        "id": "fV0JXkWwHPpZ",
        "outputId": "f9ac9512-494f-49a8-f253-0edb2bb772c4"
      },
      "outputs": [
        {
          "output_type": "stream",
          "name": "stdout",
          "text": [
            "----------Verificador de números pares e impares----------------------\n",
            "Ingrese un numero2\n",
            "El número 2 es PAR.\n"
          ]
        }
      ],
      "source": [
        "# Ejercicio 3\n",
        "# Verificador de números pares e impares Crea un programa que implemente una función llamada verificar_paridad(numero) que:\n",
        "# Reciba un número entero y determine si es par o impar.\n",
        "# Si el número es negativo, use raise para lanzar un error indicando que no se permiten números negativos.\n",
        "# El programa debe pedir el número al usuario, mostrar el resultado e incluir manejo de errores.\n",
        "\n",
        "\n",
        "def es_par (numero):\n",
        " if numero %2==0:\n",
        "  return f\"El número {numero} es PAR.\"\n",
        " else:\n",
        "   return f\"El número {numero} es IMPAR.\"\n",
        "print('----------Verificador de números pares e impares----------------------')\n",
        "try:\n",
        " numero=int(input('Ingrese un numero'))\n",
        " print(es_par (numero))"
      ]
    },
    {
      "cell_type": "code",
      "source": [
        "def es_par (numero):\n",
        " try:\n",
        "  if numero %2==0:\n",
        "   return f\"El número {numero} es PAR.\"\n",
        "  else:\n",
        "   return f\"El número {numero} es IMPAR.\"\n",
        " except ValueError:\n",
        "   print('No se puede dividir entre cero ')\n",
        "print('----------Verificador de números pares e impares----------------------')\n",
        "numero=int(input('Ingrese un numero'))\n",
        "print(es_par (numero))"
      ],
      "metadata": {
        "colab": {
          "base_uri": "https://localhost:8080/"
        },
        "id": "xXiSg0dlJ87Z",
        "outputId": "725c594a-1ecc-440f-91af-75ca8a5980c7"
      },
      "execution_count": null,
      "outputs": [
        {
          "output_type": "stream",
          "name": "stdout",
          "text": [
            "----------Verificador de números pares e impares----------------------\n"
          ]
        }
      ]
    },
    {
      "cell_type": "code",
      "source": [
        "# Ejercicio 4: Calculadora con validaciones Crea un programa que implemente una función llamada calcular(a, b, operacion) que:\n",
        "# Reciba dos números (a y b) y una operación (\"suma\", \"resta\", \"multiplicacion\", \"division\").\n",
        "# Devuelva el resultado de la operación correspondiente.\n",
        "# Si el usuario intenta dividir entre cero, use raise para lanzar un error.\n",
        "# Si la operación no existe, también debe lanzar un error con raise.\n",
        "# El programa debe pedir los valores y la operación al usuario, e incluir manejo de errores con try y except.\n",
        "\n",
        "\n",
        "def calcular(a, b, operacion):\n",
        "    try:\n",
        "        if operacion == \"suma\":\n",
        "            return a + b\n",
        "        elif operacion == \"resta\":\n",
        "            return a - b\n",
        "        elif operacion == \"multiplicacion\":\n",
        "            return a * b\n",
        "        elif operacion == \"division\":\n",
        "            if b == 0:\n",
        "                raise ZeroDivisionError(\"No se puede dividir entre cero.\")\n",
        "            return a / b\n",
        "        else:\n",
        "            raise ValueError(\"Operación no válida. Usa: suma, resta, multiplicacion o division.\")\n",
        "    except Exception as e:\n",
        "        return f\"Error: {e}\"\n",
        "\n",
        "\n",
        "# Programa principal\n",
        "try:\n",
        "    a = float(input(\"Ingrese el primer número: \"))\n",
        "    b = float(input(\"Ingrese el segundo número: \"))\n",
        "    operacion = input(\"Ingrese la operación (suma, resta, multiplicacion, division): \").lower()\n",
        "\n",
        "    resultado = calcular(a, b, operacion)\n",
        "    print(f\"Resultado: {resultado}\")\n",
        "except ValueError:\n",
        "    print(\"Error: Debe ingresar valores numéricos válidos.\")\n",
        "except Exception as e:\n",
        "    print(f\"Ocurrió un error: {e}\")"
      ],
      "metadata": {
        "id": "uB8aQxISM_7i"
      },
      "execution_count": null,
      "outputs": []
    }
  ]
}