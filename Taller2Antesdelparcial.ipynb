{
  "nbformat": 4,
  "nbformat_minor": 0,
  "metadata": {
    "colab": {
      "provenance": [],
      "authorship_tag": "ABX9TyO9sfO/DQw6VAiK78VLtzZe",
      "include_colab_link": true
    },
    "kernelspec": {
      "name": "python3",
      "display_name": "Python 3"
    },
    "language_info": {
      "name": "python"
    }
  },
  "cells": [
    {
      "cell_type": "markdown",
      "metadata": {
        "id": "view-in-github",
        "colab_type": "text"
      },
      "source": [
        "<a href=\"https://colab.research.google.com/github/VincentRRojasB/UnicafamProgramacionAvanzada2025II/blob/main/Taller2Antesdelparcial.ipynb\" target=\"_parent\"><img src=\"https://colab.research.google.com/assets/colab-badge.svg\" alt=\"Open In Colab\"/></a>"
      ]
    },
    {
      "cell_type": "code",
      "execution_count": null,
      "metadata": {
        "id": "HXbmTzj-J18H"
      },
      "outputs": [],
      "source": []
    },
    {
      "cell_type": "code",
      "source": [
        "# Recorremos los números del 1 al 50 usando un ciclo for\n",
        "for numero in range(1, 51):\n",
        "    if numero % 2 == 0:                                     # Verificamos si el número es par usando el operador módulo (%)\n",
        "        print(f\"Este número es par: {numero}\")              # imprimimos el menasje con con los numeros pares"
      ],
      "metadata": {
        "colab": {
          "base_uri": "https://localhost:8080/"
        },
        "id": "Kmb8Xi5NJ3yC",
        "outputId": "dc402d49-9ede-4777-fd58-6432c5d70cad"
      },
      "execution_count": 1,
      "outputs": [
        {
          "output_type": "stream",
          "name": "stdout",
          "text": [
            "Este número es par: 2\n",
            "Este número es par: 4\n",
            "Este número es par: 6\n",
            "Este número es par: 8\n",
            "Este número es par: 10\n",
            "Este número es par: 12\n",
            "Este número es par: 14\n",
            "Este número es par: 16\n",
            "Este número es par: 18\n",
            "Este número es par: 20\n",
            "Este número es par: 22\n",
            "Este número es par: 24\n",
            "Este número es par: 26\n",
            "Este número es par: 28\n",
            "Este número es par: 30\n",
            "Este número es par: 32\n",
            "Este número es par: 34\n",
            "Este número es par: 36\n",
            "Este número es par: 38\n",
            "Este número es par: 40\n",
            "Este número es par: 42\n",
            "Este número es par: 44\n",
            "Este número es par: 46\n",
            "Este número es par: 48\n",
            "Este número es par: 50\n"
          ]
        }
      ]
    },
    {
      "cell_type": "code",
      "source": [
        "# Solicitamos al usuario un número para generar su tabla de multiplicar\n",
        "numero = int(input(\"Ingrese un número para ver su tabla de multiplicar: \"))\n",
        "\n",
        "for numeros_del_1_10 in range(1, 11):                       # Usamos un ciclo for para multiplicar el número del 1 al 10\n",
        "    resultado = numero * numeros_del_1_10                   # declaramos una variable que sea el resultados del numero solicitado por los numeros del 1 al 10\n",
        "    print(f\"{numero} x {numeros_del_1_10} = {resultado}\")   # imprimimos toda la table de multiplicdar"
      ],
      "metadata": {
        "colab": {
          "base_uri": "https://localhost:8080/"
        },
        "id": "o5ia1lDYJ470",
        "outputId": "cba035ef-84f7-469c-f076-b38b7a4e4ef0"
      },
      "execution_count": 3,
      "outputs": [
        {
          "output_type": "stream",
          "name": "stdout",
          "text": [
            "Ingrese un número para ver su tabla de multiplicar: 3\n",
            "3 x 1 = 3\n",
            "3 x 2 = 6\n",
            "3 x 3 = 9\n",
            "3 x 4 = 12\n",
            "3 x 5 = 15\n",
            "3 x 6 = 18\n",
            "3 x 7 = 21\n",
            "3 x 8 = 24\n",
            "3 x 9 = 27\n",
            "3 x 10 = 30\n"
          ]
        }
      ]
    },
    {
      "cell_type": "code",
      "source": [
        "\n",
        "# Definimos el número secreto\n",
        "print('--------------- ADIVINA EL NUMERO SECRETO --------------')\n",
        "numero_secreto = 7\n",
        "\n",
        "intento = 0                                               # Inicializamos la variable del intento\n",
        "\n",
        "while intento != numero_secreto:                          # Usamos un ciclo while que se repite hasta que el usuario adivine\n",
        "    intento = int(input(\"Adivina el número secreto: \"))\n",
        "    if intento != numero_secreto:\n",
        "        print(\"¡Intenta de nuevo!\")\n",
        "print(\"¡Felicidades! Adivinaste el número.\")\n"
      ],
      "metadata": {
        "colab": {
          "base_uri": "https://localhost:8080/"
        },
        "id": "sooUR8KCKlEN",
        "outputId": "64a59172-fb00-4fd4-94bd-177e32d89a53"
      },
      "execution_count": 6,
      "outputs": [
        {
          "output_type": "stream",
          "name": "stdout",
          "text": [
            "--------------- ADIVINA EL NUMERO SECRETO --------------\n",
            "Adivina el número secreto: 2\n",
            "¡Intenta de nuevo!\n",
            "Adivina el número secreto: 3\n",
            "¡Intenta de nuevo!\n",
            "Adivina el número secreto: 3\n",
            "¡Intenta de nuevo!\n",
            "Adivina el número secreto: 3\n",
            "¡Intenta de nuevo!\n",
            "Adivina el número secreto: 7\n",
            "¡Felicidades! Adivinaste el número.\n"
          ]
        }
      ]
    },
    {
      "cell_type": "code",
      "source": [
        "# Inicializa la variable suma en 0\n",
        "suma = 0\n",
        "entrada = input(\"Ingrese un número o escriba 'fin' para terminar: \")  # Solicita la primera entrada\n",
        "while entrada.lower() != \"fin\":                                       # Mientras la entrada no sea 'fin', continúa el ciclo\n",
        "    suma += int(entrada)                                              # Convierte la entrada a entero y la suma\n",
        "    print(f\"Suma actual: {suma}\")                                     # Muestra la suma acumulada\n",
        "    entrada = input(\"Ingrese otro número para sumar o la palabra 'fin' para terminar: \")  # Solicita el siguiente numero\n",
        "\n",
        "print(f\"La suma total es: {suma}\")                                    # Muestra la suma acumulada\n"
      ],
      "metadata": {
        "colab": {
          "base_uri": "https://localhost:8080/"
        },
        "id": "CoywW-mhMmhj",
        "outputId": "855f3e33-33d2-4847-81ce-acd94006fac5"
      },
      "execution_count": 12,
      "outputs": [
        {
          "output_type": "stream",
          "name": "stdout",
          "text": [
            "Ingrese un número o escriba 'fin' para terminar: 2\n",
            "Suma actual: 2\n",
            "Ingrese otro número para sumar o la palabra 'fin' para terminar: 3\n",
            "Suma actual: 5\n",
            "Ingrese otro número para sumar o la palabra 'fin' para terminar: fin\n",
            "La suma total es: 5\n"
          ]
        }
      ]
    },
    {
      "cell_type": "code",
      "source": [
        "\n",
        "# Solicita una palabra al usuario\n",
        "palabra = input(\"Ingrese una palabra \")\n",
        "contador_vocales = 0                                    # Inicializa el contador de vocales\n",
        "\n",
        "for letra in palabra:                                   # Recorre cada letra de la palabra\n",
        "    if letra.lower() in \"aeiou\":                        # Verifica si la letra es una vocal\n",
        "        contador_vocales += 1                           # Incrementa el contador si es vocal\n",
        "print(f\"La palabra tiene {contador_vocales} vocales.\")  # Muestra el total de vocales\n"
      ],
      "metadata": {
        "colab": {
          "base_uri": "https://localhost:8080/"
        },
        "id": "eHOxotWSPm0O",
        "outputId": "0655cd73-9c80-45f0-c13a-1804b03b9e07"
      },
      "execution_count": 14,
      "outputs": [
        {
          "output_type": "stream",
          "name": "stdout",
          "text": [
            "Ingrese una palabra lkj\n",
            "La palabra tiene 0 vocales.\n"
          ]
        }
      ]
    },
    {
      "cell_type": "code",
      "source": [
        "# Recorre los números del 1 al 30\n",
        "for numero in range(1, 31):\n",
        "    if numero % 2 != 0:                               # Verifica si el número es impar\n",
        "        print(f\"Este número es impar: {numero}\")      # Muestra el número impar"
      ],
      "metadata": {
        "colab": {
          "base_uri": "https://localhost:8080/"
        },
        "id": "kgjSHt8aSItW",
        "outputId": "ea08cc3c-0145-4c83-ac74-1eead1c69bd7"
      },
      "execution_count": 15,
      "outputs": [
        {
          "output_type": "stream",
          "name": "stdout",
          "text": [
            "Este número es impar: 1\n",
            "Este número es impar: 3\n",
            "Este número es impar: 5\n",
            "Este número es impar: 7\n",
            "Este número es impar: 9\n",
            "Este número es impar: 11\n",
            "Este número es impar: 13\n",
            "Este número es impar: 15\n",
            "Este número es impar: 17\n",
            "Este número es impar: 19\n",
            "Este número es impar: 21\n",
            "Este número es impar: 23\n",
            "Este número es impar: 25\n",
            "Este número es impar: 27\n",
            "Este número es impar: 29\n"
          ]
        }
      ]
    },
    {
      "cell_type": "code",
      "source": [
        "# Solicita el número inicial\n",
        "numero = int(input(\"Ingrese el número para iniciar la cuenta regresiva\"))\n",
        "\n",
        "while numero >= 1:                       # Ciclo que se repite mientras el número sea mayor o igual a 1\n",
        "    print(numero)                        # Muestra el número actual\n",
        "    numero -= 1                          # Resta 1 al número en cada iteración"
      ],
      "metadata": {
        "colab": {
          "base_uri": "https://localhost:8080/"
        },
        "id": "f0aix638SnGe",
        "outputId": "f6ccedb1-ef85-414e-b355-4ec9e686700e"
      },
      "execution_count": 16,
      "outputs": [
        {
          "output_type": "stream",
          "name": "stdout",
          "text": [
            "Ingrese el número para iniciar la cuenta regresiva3\n",
            "3\n",
            "2\n",
            "1\n"
          ]
        }
      ]
    },
    {
      "cell_type": "code",
      "source": [
        "opcion = \"\"                                             # Inicializa la variable opción\n",
        "\n",
        "while opcion != \"3\":                                    # Ciclo que se repite hasta que el usuario elija \"3\"\n",
        "    print(\"--- MENÚ ---\")                             # Muestra el menú\n",
        "    print(\"1. Saludar\")                                 # Opción 1\n",
        "    print(\"2. Despedirse\")                              # Opción 2\n",
        "    print(\"3. Salir\")                                   # Opción 3\n",
        "\n",
        "    opcion = input(\"Seleccione una opción: \")           # Solicita la opción al usuario\n",
        "    if opcion == \"1\":                                   # Si elige 1\n",
        "        print(\"¡Hola! ¿Cómo estás?\")                    # Saludo\n",
        "    elif opcion == \"2\":                                 # Si elige 2\n",
        "        print(\"¡Hasta luego!\")                          # Despedida\n",
        "    elif opcion == \"3\":                                 # Si elige 3\n",
        "        print(\"Saliendo\")                               # Salida\n",
        "    else:\n",
        "        print(\"Opción no válida. Intenta de nuevo.\")    # Mensaje de error"
      ],
      "metadata": {
        "colab": {
          "base_uri": "https://localhost:8080/"
        },
        "id": "aRM-GBg-S8ul",
        "outputId": "f3b1576b-7546-4fe9-a3b4-a0a4797c6bd6"
      },
      "execution_count": null,
      "outputs": [
        {
          "output_type": "stream",
          "name": "stdout",
          "text": [
            "\n",
            "--- MENÚ ---\n",
            "1. Saludar\n",
            "2. Despedirse\n",
            "3. Salir\n",
            "Seleccione una opción: 2\n",
            "¡Hasta luego!\n",
            "\n",
            "--- MENÚ ---\n",
            "1. Saludar\n",
            "2. Despedirse\n",
            "3. Salir\n",
            "Seleccione una opción: 1\n",
            "¡Hola! ¿Cómo estás?\n",
            "\n",
            "--- MENÚ ---\n",
            "1. Saludar\n",
            "2. Despedirse\n",
            "3. Salir\n"
          ]
        }
      ]
    },
    {
      "cell_type": "code",
      "source": [],
      "metadata": {
        "id": "K7aWNVytTWjK"
      },
      "execution_count": null,
      "outputs": []
    }
  ]
}