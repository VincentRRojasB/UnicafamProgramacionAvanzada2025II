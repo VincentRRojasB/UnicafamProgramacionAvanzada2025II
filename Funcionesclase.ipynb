{
  "nbformat": 4,
  "nbformat_minor": 0,
  "metadata": {
    "colab": {
      "provenance": [],
      "include_colab_link": true
    },
    "kernelspec": {
      "name": "python3",
      "display_name": "Python 3"
    },
    "language_info": {
      "name": "python"
    }
  },
  "cells": [
    {
      "cell_type": "markdown",
      "metadata": {
        "id": "view-in-github",
        "colab_type": "text"
      },
      "source": [
        "<a href=\"https://colab.research.google.com/github/VincentRRojasB/UnicafamProgramacionAvanzada2025II/blob/main/Funcionesclase.ipynb\" target=\"_parent\"><img src=\"https://colab.research.google.com/assets/colab-badge.svg\" alt=\"Open In Colab\"/></a>"
      ]
    },
    {
      "cell_type": "markdown",
      "source": [
        "##**Funciones**\n",
        "Programación Avanzada\n",
        "\n",
        "Ingenieria Industrial\n",
        "\n",
        "Fundación Universitaria Cafam - Unicafam\n",
        "\n",
        "Facultad de Ingenieria y Ciencias Básicas\n",
        "\n",
        "Profesor: Nicolas Mojica\n",
        "\n",
        "Estudiante: Vincent R Rojas Bohórquez"
      ],
      "metadata": {
        "id": "Ncng6b5I_nfE"
      }
    },
    {
      "cell_type": "code",
      "execution_count": null,
      "metadata": {
        "id": "778Xbqfh-V-C"
      },
      "outputs": [],
      "source": [
        "# Crear una función que presente a una persona de acuerdo a su nombre y edad\n",
        "def saludar(nombre,edad):                                 # los ':' es para inicial la función\n",
        "  print(f'Hola {nombre}, tienes {edad} años ')            # Aqui va lo que queremos que haga la función es decir parametrizar\n"
      ]
    },
    {
      "cell_type": "code",
      "source": [
        "# Evalucación de la función\n",
        "mensaje=saludar('Vincent','33')"
      ],
      "metadata": {
        "colab": {
          "base_uri": "https://localhost:8080/"
        },
        "id": "KD73XnEPB-Of",
        "outputId": "8555cda3-a001-473c-ffa5-38999fe9ef3d"
      },
      "execution_count": null,
      "outputs": [
        {
          "output_type": "stream",
          "name": "stdout",
          "text": [
            "Hola Vincent, tienes 33 años \n"
          ]
        }
      ]
    },
    {
      "cell_type": "code",
      "source": [
        "# Crear una función que me diga si un numero es par o no\n",
        "def par(nuemro):\n",
        "  if (nuemro%2)==0:\n",
        "    return 'Es par'\n",
        "  else:\n",
        "    return 'No es par'                                      # return Cuando Finalice la operación espero el resultado de regreso"
      ],
      "metadata": {
        "id": "Tad6FZG4Ci8J"
      },
      "execution_count": null,
      "outputs": []
    },
    {
      "cell_type": "code",
      "source": [
        "# Comprobar si el numero es par\n",
        "par(4)"
      ],
      "metadata": {
        "colab": {
          "base_uri": "https://localhost:8080/",
          "height": 36
        },
        "id": "TaRk3AD5D3VQ",
        "outputId": "462aa847-2e19-4ecd-a078-cc7035a7d9e6"
      },
      "execution_count": null,
      "outputs": [
        {
          "output_type": "execute_result",
          "data": {
            "text/plain": [
              "'Es par'"
            ],
            "application/vnd.google.colaboratory.intrinsic+json": {
              "type": "string"
            }
          },
          "metadata": {},
          "execution_count": 5
        }
      ]
    },
    {
      "cell_type": "code",
      "source": [
        "# Comprobar si el numero es par\n",
        "par(3)"
      ],
      "metadata": {
        "colab": {
          "base_uri": "https://localhost:8080/",
          "height": 36
        },
        "id": "si1c6I8AEW-A",
        "outputId": "179ba01c-cdbd-49ed-d896-183ef1697bf6"
      },
      "execution_count": null,
      "outputs": [
        {
          "output_type": "execute_result",
          "data": {
            "text/plain": [
              "'No es par'"
            ],
            "application/vnd.google.colaboratory.intrinsic+json": {
              "type": "string"
            }
          },
          "metadata": {},
          "execution_count": 6
        }
      ]
    },
    {
      "cell_type": "code",
      "source": [
        "# Operadores de comparación\n",
        "\"\"\"\n",
        "Comparaciones\n",
        "Las condiciones en las sentencias condicionales suelen involucrar operadores de comparación:\n",
        "\n",
        "- == (igual a)\n",
        "- != (diferente de)\n",
        "- > (mayor que)\n",
        "- < (menor que)\n",
        "- >= (mayor o igual que)\n",
        "- <= (menor o igual que)\n",
        "\"\"\""
      ],
      "metadata": {
        "id": "7HnrjWIQEavB"
      },
      "execution_count": null,
      "outputs": []
    },
    {
      "cell_type": "code",
      "source": [
        "# Escriba un programa que le pregunte al usuario Cuales son sus ingresos minimos, cual es su estado civil para poder otorgaarle un credito:\n",
        "# 1. Si es soltero y tiene ingresos mensuales mayores o iguales a 6 millones de pesos se aprueba un credito de 50 millones\n",
        "# 2. Si es soltero y tiene ingresos mensuales mayores a 3 millones pero menores a 6 millones se aprueban 20 millones\n",
        "# 3. Si los ingresos son menores a 3 millones no se aprueba el credito\n",
        "\n",
        "# parametors para la función son los ingresos mensuales y el estado civil\n",
        "def credito(ingresos,estado):\n",
        "  if ingresos>3000000 and estado.lower()=='soltero':           # .lower condicional de que estado sea en minusculas\n",
        "    if ingresos<6000000:\n",
        "      print('Felicidades, tiene un credito aprobado por 20 millones de pesos')      # cuando no se utiliza el print casi siempre es return\n",
        "    else:\n",
        "      print('Felicidades, tiene un credito aprobado por 50 millones de pesos')\n",
        "  else:\n",
        "    print('Credito negado')"
      ],
      "metadata": {
        "id": "wj-QSDGeE1Vg"
      },
      "execution_count": null,
      "outputs": []
    },
    {
      "cell_type": "code",
      "source": [
        "print('-------- CALCULADORA DE PRESTAMO ---------')\n",
        "print('Para conocer el resultado de su solicitud de credito, proporciones los siguentes datos')\n",
        "ing=int(input('¿Cuales son tus ingresos mensuales?'))\n",
        "est=str(input('¿Cual es su estado civil? '))\n",
        "credito(ing, est)"
      ],
      "metadata": {
        "colab": {
          "base_uri": "https://localhost:8080/"
        },
        "id": "KuBHcQrOH3yo",
        "outputId": "85326bc4-e7c2-45e7-eae5-4737c2fbec45"
      },
      "execution_count": null,
      "outputs": [
        {
          "output_type": "stream",
          "name": "stdout",
          "text": [
            "-------- CALCULADORA DE PRESTAMO ---------\n",
            "Para conocer el resultado de su solicitud de credito, proporciones los siguentes datos\n",
            "¿Cuales son tus ingresos mensuales?30000000\n",
            "¿Cual es su estado civil? SOLTERO\n",
            "Felicidades, tiene un credito aprobado por 50 millones de pesos\n"
          ]
        }
      ]
    },
    {
      "cell_type": "code",
      "source": [
        "# Crea una función que reciba una nota de 0 a 100 con las siguienes condiciones\n",
        "'''\n",
        "   Excelente notas entre 100 -90\n",
        "   Bueno notas entre 89 - 70\n",
        "   Suficiente notas entre 69 - 50\n",
        "   Insuficiente notas menores de 50\n",
        "   '''\n",
        "def notas (calificaciones):\n",
        "  if calificaciones<90:                    # para notas => 90 clasificación Exelente\n",
        "    if calificaciones<70:                  # para notas => 70 clasificación Bueno\n",
        "      if calificaciones<50:                # para notas => 50 clasificación Suficiente\n",
        "       print('Insufuciente')               # para valores menores a 50 clasificación Insuficiente\n",
        "      else:\n",
        "        print('Sufuciente')\n",
        "    else:\n",
        "      print('Bueno')\n",
        "  else:\n",
        "    print('Excelente')"
      ],
      "metadata": {
        "id": "R-kP-4ACJC0Z"
      },
      "execution_count": null,
      "outputs": []
    },
    {
      "cell_type": "code",
      "source": [
        "print('----------CONOCE TU DESEMPEÑO-------------')\n",
        "cal=int(input('Ingresa tu nota '))\n",
        "notas(cal)"
      ],
      "metadata": {
        "colab": {
          "base_uri": "https://localhost:8080/"
        },
        "id": "xZVnCtsaRoV6",
        "outputId": "cab95417-9903-452d-efff-c094c0cdbadf"
      },
      "execution_count": null,
      "outputs": [
        {
          "output_type": "stream",
          "name": "stdout",
          "text": [
            "----------CONOCE TU DESEMPEÑO-------------\n",
            "Ingresa tu nota 69\n",
            "Sufuciente\n"
          ]
        }
      ]
    },
    {
      "cell_type": "code",
      "source": [],
      "metadata": {
        "id": "b6Ux3L7YSmFw"
      },
      "execution_count": null,
      "outputs": []
    }
  ]
}