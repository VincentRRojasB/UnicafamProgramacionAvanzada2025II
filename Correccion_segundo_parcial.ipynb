{
  "nbformat": 4,
  "nbformat_minor": 0,
  "metadata": {
    "colab": {
      "provenance": [],
      "authorship_tag": "ABX9TyMOS88+4p3sXQilXwt3qJCN",
      "include_colab_link": true
    },
    "kernelspec": {
      "name": "python3",
      "display_name": "Python 3"
    },
    "language_info": {
      "name": "python"
    }
  },
  "cells": [
    {
      "cell_type": "markdown",
      "metadata": {
        "id": "view-in-github",
        "colab_type": "text"
      },
      "source": [
        "<a href=\"https://colab.research.google.com/github/VincentRRojasB/UnicafamProgramacionAvanzada2025II/blob/main/Correccion_segundo_parcial.ipynb\" target=\"_parent\"><img src=\"https://colab.research.google.com/assets/colab-badge.svg\" alt=\"Open In Colab\"/></a>"
      ]
    },
    {
      "cell_type": "markdown",
      "source": [
        "##** Corrección Parcial Segundo Corte**\n",
        "Programación Avanzada\n",
        "\n",
        "Ingenieria Industrial\n",
        "\n",
        "Fundación Universitaria Cafam - Unicafam\n",
        "\n",
        "Facultad de Ingenieria y Ciencias Básicas\n",
        "\n",
        "Profesor: Nicolas Mojica\n",
        "\n",
        "Estudiante: Vincent R Rojas Bohórquez"
      ],
      "metadata": {
        "id": "VF7ygDXSC9vu"
      }
    },
    {
      "cell_type": "code",
      "execution_count": null,
      "metadata": {
        "id": "zBv7CXjRC810"
      },
      "outputs": [],
      "source": [
        "# 1. Escriba un progrma que elija un numero sevreto - el usuario debe adivinarlo\n",
        "\n",
        "codigo_secreto = 22                                                             # numero que el usuario debe adivinar\n",
        "repetir = 0                                                                     # definimos otra variable que repita hasta que el usuario adivine\n",
        "while repetir != codigo_secreto:                                                # Inicio del bucle\n",
        " repetir=int(input('------- Adivina el numero secreto ----------'))             # Indica al usuario que debe adivinar\n",
        " if repetir != codigo_secreto:\n",
        "  print('Intenta de nuevo')\n",
        "print(f'Felicidades el numero secreto es {codigo_secreto}')\n"
      ]
    },
    {
      "cell_type": "code",
      "source": [
        "# 2. Crea un programa que muestre el siguiente menú hasta que el usuario escriba 'Salir'\n",
        "\n",
        "menu = ''                                                                       # Declaramos una variable vacia\n",
        "while menu != '3':\n",
        "  print('------ Menu ------')\n",
        "  print('1. Saludar')\n",
        "  print('2. Despedirse')\n",
        "  print('3. Salir')\n",
        "  menu = input('Seleccione una opción ')                                        # pide al usuario que indique una opción del menu\n",
        "  if menu == '1':\n",
        "   print('Hola')                                                                # La opción 1 te saluda\n",
        "  elif menu == '2':\n",
        "   print('Adios')                                                               # la opción 2 se despide\n",
        "  elif menu == '3':\n",
        "   print('Saliendo')                                                            # la opción 3 sale del menu\n",
        "  else:\n",
        "   print('opción no valida')                                                    # si se ingresa una opción invalida se imprime el mensaje"
      ],
      "metadata": {
        "id": "z4iAVrFzDZ_f"
      },
      "execution_count": null,
      "outputs": []
    },
    {
      "cell_type": "code",
      "source": [
        "# 3. Pide al usuario que ingrese números uno por uno. El programa debe ir sumándolos hasta que el usuario escriba \"fin\". Usa un ciclo while\n",
        "suma = 0\n",
        "preguta = input('Ingrese un numero para sumar o la palabra \"fin\" para terminar ')\n",
        "\n",
        "while preguta != 'fin':\n",
        "  suma += int(preguta)\n",
        "  print(f'suma actual es {suma}')\n",
        "  preguta = input('Ingrese un numero para sumar o la palabra \"fin\" para terminar ')\n",
        "print(f'la suma total es {suma}')"
      ],
      "metadata": {
        "id": "akysrVvADnkm"
      },
      "execution_count": null,
      "outputs": []
    },
    {
      "cell_type": "code",
      "source": [
        "# 4. Gestor de estudiantes Crea un programa que implemente una función llamada registrar_estudiante(nombre, edad, carrera) que:\n",
        "# Devuelva un diccionario con los datos del estudiante.\n",
        "# Antes de crear el registro, valide que la edad sea un número entero mayor que 0. Si no, use raise para lanzar un error.\n",
        "# El programa debe pedir los datos al usuario y mostrar el diccionario resultante.\n",
        "\n",
        "\n",
        "# Maneje los errores con try y except.\n",
        "\n",
        "# Enunciado:\n",
        "# Crear una función llamada registrar_estudiante(nombre, edad, carrera) que:\n",
        "# - Verifique que el nombre y la carrera no estén vacíos.\n",
        "# - Verifique que la edad sea un número entero.\n",
        "# - Devuelva un diccionario con los datos del estudiante.\n",
        "# - El programa debe permitir registrar varios estudiantes, solicitando los datos al usuario.\n",
        "# - Debe manejar errores con try, except para mostrar mensajes adecuados si hay errores de tipo o valor.\n",
        "\n",
        "def registrar_estudiante(nombre, edad, carrera):\n",
        "    if not nombre or not carrera:                                               # Se verifica que ni el nombre ni la carrera estén vacíos\n",
        "        raise ValueError(\"El nombre y la carrera no pueden estar vacíos.\")      # Si alguno está vacío, se lanza un error\n",
        "    if not isinstance(edad, int):                                               # Se verifica que la edad sea un número entero\n",
        "        raise TypeError(\"La edad debe ser un número entero.\")                   # Si no lo es, se lanza un error de tipo\n",
        "\n",
        "    return {\n",
        "        \"nombre\": nombre,\n",
        "        \"edad\": edad,\n",
        "        \"carrera\": carrera\n",
        "    }\n",
        "\n",
        "estudiantes = {}\n",
        "\n",
        "try:\n",
        "    n = int(input(\"¿Cuántos estudiantes deseas registrar?: \"))\n",
        "    for i in range(n):                                                          # Se repite el proceso de registro n veces\n",
        "        print(f\"\\nRegistro {i+1}:\")                                             # Se muestra el número de registro actual\n",
        "        nombre = input(\"Nombre: \")\n",
        "        edad = int(input(\"Edad: \"))\n",
        "        carrera = input(\"Carrera: \")\n",
        "\n",
        "        estudiante = registrar_estudiante(nombre, edad, carrera)                # Se llama a la función para registrar al estudiante\n",
        "        estudiantes[f\"estudiante_{i+1}\"] = estudiante                           # Se guarda el estudiante en el diccionario\n",
        "\n",
        "    print(\"\\nEstudiantes registrado:\")                                          # Se imprime un mensaje indicando que se mostrarán los datos\n",
        "    print(estudiantes)                                                          # Se imprime el diccionario completo de estudiantes\n",
        "\n",
        "except ValueError as ve:                                                        # Captura un errores\n",
        "    print(f\"Error de valor: {ve}\")\n",
        "except TypeError as te:\n",
        "    print(f\"Error de tipo: {te}\")\n",
        "except Exception as e:\n",
        "    print(f\"Ocurrió un error inesperado: {e}\")\n"
      ],
      "metadata": {
        "colab": {
          "base_uri": "https://localhost:8080/"
        },
        "id": "O-zQKuciEGdz",
        "outputId": "304c8151-a284-43c4-b19b-93afc18e2532"
      },
      "execution_count": 1,
      "outputs": [
        {
          "output_type": "stream",
          "name": "stdout",
          "text": [
            "¿Cuántos estudiantes deseas registrar?: 2\n",
            "\n",
            "Registro 1:\n",
            "Nombre: v\n",
            "Edad: 20\n",
            "Carrera: ñññ\n",
            "\n",
            "Registro 2:\n",
            "Nombre: 1\n",
            "Edad: 2\n",
            "Carrera: 222\n",
            "\n",
            "Diccionario de estudiantes registrado:\n",
            "{'estudiante_1': {'nombre': 'v', 'edad': 20, 'carrera': 'ñññ'}, 'estudiante_2': {'nombre': '1', 'edad': 2, 'carrera': '222'}}\n"
          ]
        }
      ]
    },
    {
      "cell_type": "code",
      "source": [
        "\n",
        "# 5. Crea un programa que implemente una función llamada crear_usuario(nombre, correo, edad) que:\n",
        "# - Devuelva un diccionario con los datos del usuario.\n",
        "# - Antes de crear el usuario: Valide que el correo contenga \"@\".\n",
        "# - Valide que la edad sea mayor o igual a 18 años.\n",
        "# - Si los datos no cumplen con las condiciones, use raise para lanzar un error con el mensaje correspondiente.\n",
        "# - El programa debe pedir los datos al usuario, intentar crear el registro y manejar los errores con try y except.\n",
        "\n",
        "def crear_usuario(nombre, correo, edad):                                                # Se define la función que recibe nombre, correo y edad como parámetros\n",
        "    if \"@\" not in correo:                                                               # Se verifica si el correo contiene el carácter \"@\"\n",
        "        raise ValueError(\"El correo electrónico no es válido.\")                         # Si no contiene \"@\", se lanza un error con mensaje\n",
        "    if edad < 18:                                                                       # Se verifica si la edad es menor a 18\n",
        "        raise ValueError(\"El usuario debe ser mayor de edad (18+).\")                    # Si es menor, se lanza un error con mensaje\n",
        "    return {\"nombre\": nombre, \"correo\": correo, \"edad\": edad}                           # Si todo está bien, se retorna un diccionario con los datos\n",
        "\n",
        "\n",
        "try:\n",
        "    nombre = input(\"Ingrese su nombre: \")                                               # Se solicita al usuario que ingrese su nombre\n",
        "    correo = input(\"Ingrese su correo electrónico: \")                                   # Se solicita al usuario que ingrese su correo\n",
        "    edad = int(input(\"Ingrese su edad: \"))                                              # Se solicita al usuario que ingrese su edad y se convierte a entero\n",
        "\n",
        "    usuario = crear_usuario(nombre, correo, edad)                                       # Se intenta crear el usuario con los datos ingresados\n",
        "    print(\"Usuario creado exitosamente:\", usuario)                                      # Si no hay errores, se imprime el diccionario del usuario\n",
        "\n",
        "except ValueError as e:                                                                 # Se captura cualquier error\n",
        "    print(\"Error al crear el usuario:\", e)                                              # Se imprime el mensaje de error correspondiente"
      ],
      "metadata": {
        "id": "tRaYyF2WGuDb"
      },
      "execution_count": null,
      "outputs": []
    },
    {
      "cell_type": "code",
      "source": [
        "# 6. Ejercicio 4: Calculadora con validaciones Crea un programa que implemente una función llamada calcular(a, b, operacion) que:\n",
        "# Reciba dos números (a y b) y una operación (\"suma\", \"resta\", \"multiplicacion\", \"division\").\n",
        "# Devuelva el resultado de la operación correspondiente.\n",
        "# Si el usuario intenta dividir entre cero, use raise para lanzar un error.\n",
        "# Si la operación no existe, también debe lanzar un error con raise.\n",
        "# El programa debe pedir los valores y la operación al usuario, e incluir manejo de errores con try y except.\n",
        "\n",
        "\n",
        "def calcular(a, b, operacion):\n",
        "    try:\n",
        "        if operacion == \"suma\":\n",
        "            return a + b\n",
        "        elif operacion == \"resta\":\n",
        "            return a - b\n",
        "        elif operacion == \"multiplicacion\":\n",
        "            return a * b\n",
        "        elif operacion == \"division\":\n",
        "            if b == 0:\n",
        "                raise ZeroDivisionError(\"No se puede dividir entre cero.\")\n",
        "            return a / b\n",
        "        else:\n",
        "            raise ValueError(\"Operación no válida. Usa: suma, resta, multiplicacion o division.\")\n",
        "    except Exception as e:\n",
        "        return f\"Error: {e}\"\n",
        "\n",
        "try:\n",
        "    a = float(input(\"Ingrese el primer número: \"))\n",
        "    b = float(input(\"Ingrese el segundo número: \"))\n",
        "    operacion = input(\"Ingrese la operación (suma, resta, multiplicacion, division): \").lower()\n",
        "\n",
        "    resultado = calcular(a, b, operacion)\n",
        "    print(f\"Resultado: {resultado}\")\n",
        "except ValueError:\n",
        "    print(\"Error: Debe ingresar valores numéricos válidos.\")\n",
        "except Exception as e:\n",
        "    print(f\"Ocurrió un error: {e}\")"
      ],
      "metadata": {
        "id": "JbPWrjxyEt7B"
      },
      "execution_count": null,
      "outputs": []
    },
    {
      "cell_type": "code",
      "source": [
        "# Enunciado:\n",
        "# Crear un programa que solicite al usuario una contraseña.\n",
        "# El programa debe seguir pidiendo la contraseña hasta que el usuario la ingrese correctamente.\n",
        "# La contraseña correcta está definida dentro del código como \"password\".\n",
        "\n",
        "contrasena = \"password\"\n",
        "\n",
        "\n",
        "while True:\n",
        "    entrada = input(\"Ingresa la contraseña: \")\n",
        "    if entrada == contrasena:\n",
        "        print(\"¡Contraseña correcta! Acceso concedido.\")\n",
        "        break                                                                   # Sale del bucle porque la contraseña fue correcta\n",
        "    else:\n",
        "        print(\"Contraseña incorrecta. Intenta de nuevo.\")                       # Muestra un mensaje de error si la contraseña es incorrecta"
      ],
      "metadata": {
        "id": "1543v5_lNG_h"
      },
      "execution_count": null,
      "outputs": []
    }
  ]
}