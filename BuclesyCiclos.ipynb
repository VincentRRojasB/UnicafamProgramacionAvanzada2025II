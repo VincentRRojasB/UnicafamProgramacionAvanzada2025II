{
  "nbformat": 4,
  "nbformat_minor": 0,
  "metadata": {
    "colab": {
      "provenance": [],
      "authorship_tag": "ABX9TyPXIaJkoSuJDRyeOJoKs91j",
      "include_colab_link": true
    },
    "kernelspec": {
      "name": "python3",
      "display_name": "Python 3"
    },
    "language_info": {
      "name": "python"
    }
  },
  "cells": [
    {
      "cell_type": "markdown",
      "metadata": {
        "id": "view-in-github",
        "colab_type": "text"
      },
      "source": [
        "<a href=\"https://colab.research.google.com/github/VincentRRojasB/UnicafamProgramacionAvanzada2025II/blob/main/BuclesyCiclos.ipynb\" target=\"_parent\"><img src=\"https://colab.research.google.com/assets/colab-badge.svg\" alt=\"Open In Colab\"/></a>"
      ]
    },
    {
      "cell_type": "markdown",
      "source": [
        "##**Bucles y Ciclos**\n",
        "Programación Avanzada\n",
        "\n",
        "Ingenieria Industrial\n",
        "\n",
        "Facultad de Ingenieria y Ciencias Basicas\n",
        "\n",
        "Fundación Universitaria Cafam - Unicafam\n",
        "\n",
        "Docente: Nicolas Mojica\n",
        "\n",
        "Estudiante Vincent R Rojas Bohorquez"
      ],
      "metadata": {
        "id": "Hli4lmXHJsbA"
      }
    },
    {
      "cell_type": "code",
      "execution_count": null,
      "metadata": {
        "colab": {
          "base_uri": "https://localhost:8080/"
        },
        "id": "jXS13m8eJqg-",
        "outputId": "23fa0b53-aa16-4ccb-95e3-8c7b5004de08"
      },
      "outputs": [
        {
          "output_type": "stream",
          "name": "stdout",
          "text": [
            "iteraccion 0\n",
            "iteraccion 1\n",
            "iteraccion 2\n",
            "iteraccion 3\n",
            "iteraccion 4\n",
            "iteraccion 5\n"
          ]
        }
      ],
      "source": [
        "# Ciclo 'For'\n",
        "# Es un ciclo que se va a repetir de forma finita con todas las interacciones\n",
        "numeros=[0,1,2,3,4,5]\n",
        "for i in numeros:\n",
        "  print('iteraccion',i)"
      ]
    },
    {
      "cell_type": "code",
      "source": [
        "# determine los numeros pares de una lista de datos\n",
        "validacion=[3,6,7,9,2,1,4,5,8,6,2,1,0]\n",
        "for i in validacion:\n",
        "  if i%2==0:\n",
        "    print('Este numero es par',i)\n",
        "  else:\n",
        "    print('Este numero es impar',i)\n"
      ],
      "metadata": {
        "colab": {
          "base_uri": "https://localhost:8080/"
        },
        "id": "_P4BWWXIL48M",
        "outputId": "beb30e73-94b6-48cd-c914-104fcd1db1a6"
      },
      "execution_count": null,
      "outputs": [
        {
          "output_type": "stream",
          "name": "stdout",
          "text": [
            "Este numero es impar 3\n",
            "Este numero es par 6\n",
            "Este numero es impar 7\n",
            "Este numero es impar 9\n",
            "Este numero es par 2\n",
            "Este numero es impar 1\n",
            "Este numero es par 4\n",
            "Este numero es impar 5\n",
            "Este numero es par 8\n",
            "Este numero es par 6\n",
            "Este numero es par 2\n",
            "Este numero es impar 1\n",
            "Este numero es par 0\n"
          ]
        }
      ]
    },
    {
      "cell_type": "code",
      "source": [
        "# desarrolle un contador que determine cuantas veces hay un numero en una lista de datos\n",
        "generos=['h','m','h','h','m','m','h','m','m','m']\n",
        "cantidad_h=0\n",
        "cantidad_m=0\n",
        "for i in generos:\n",
        "  if i=='h':\n",
        "    cantidad_h+=1\n",
        "  elif i =='m':\n",
        "    cantidad_m+1\n",
        "print(f'La cantidad de hombres es',cantidad_h)\n",
        "print(f'la cantidad de mujeres es',cantidad_m)"
      ],
      "metadata": {
        "colab": {
          "base_uri": "https://localhost:8080/"
        },
        "id": "UBxqtEfWMYeQ",
        "outputId": "2d6d4202-e8fb-4efd-9fd0-785c5bd2e951"
      },
      "execution_count": null,
      "outputs": [
        {
          "output_type": "stream",
          "name": "stdout",
          "text": [
            "La cantidad de hombres es 4\n",
            "la cantidad de mujeres es 0\n"
          ]
        }
      ]
    },
    {
      "cell_type": "code",
      "source": [
        "# Desarrolle un programa que vuelva en mayusculas los nombres en posición impar dentro de la lista\n",
        "nombres=['vincent','isabel','valerye','alejandro','david','claudia','manuel','julian']\n",
        "nombres_mayus=[]\n",
        "for i in nombres:                                  # 'i' puede llamarse de cualquier manera\n",
        "  if nombres.index(i)%2!=0:                        # El condiciona != significa 'diferente de '\n",
        "    n_mayus=i.upper()\n",
        "    nombres_mayus.append(n_mayus)\n",
        "print(nombres_mayus)"
      ],
      "metadata": {
        "colab": {
          "base_uri": "https://localhost:8080/"
        },
        "id": "RL82nXuLNz10",
        "outputId": "a767aa67-228b-42dc-d95d-8b298d7133d0"
      },
      "execution_count": null,
      "outputs": [
        {
          "output_type": "stream",
          "name": "stdout",
          "text": [
            "['ISABEL', 'ALEJANDRO', 'CLAUDIA', 'JULIAN']\n"
          ]
        }
      ]
    },
    {
      "cell_type": "code",
      "source": [
        "# Los bucles son estructuras interativas que se repite hasta que una condición se cumpla\n",
        "# Ejecute un bucle en donde el Doctor Strange donde va a seguir negociando hasta de Dormamu le diga que va a negociar\n",
        "negociar=''\n",
        "while negociar!='si':                         # Sentencia para indicar bucle 'while'\n",
        " print('Dormamu a venido a negociar')\n",
        " negociar=input('¿vas a negociar?')"
      ],
      "metadata": {
        "colab": {
          "base_uri": "https://localhost:8080/"
        },
        "id": "Wt9UlUsQUtyO",
        "outputId": "c0cf91c8-1a4c-4a27-e970-79ed5885c844"
      },
      "execution_count": null,
      "outputs": [
        {
          "name": "stdout",
          "output_type": "stream",
          "text": [
            "Dormamu a venido a negociar\n",
            "¿vas a negociar?no\n",
            "Dormamu a venido a negociar\n",
            "¿vas a negociar?si\n"
          ]
        }
      ]
    },
    {
      "cell_type": "code",
      "source": [
        "nombres_actualizar=['vincent','isabel','valerye','alejandro','david','claudia','manuel','julian']\n",
        "nombre_nuevo=''\n",
        "while nombre_nuevo not in nombres_actualizar:\n",
        "  nombre_nuevo=input('Ingrese el nombre a actualizar ')\n",
        "nombre_cambio=input('Ingrese nuevo nombre')\n",
        "nombres_actualizar[nombres_actualizar.index(nombre_nuevo)]=nombre_cambio\n",
        "print(nombres_actualizar)"
      ],
      "metadata": {
        "colab": {
          "base_uri": "https://localhost:8080/"
        },
        "id": "yj9RmAMZVhDq",
        "outputId": "38244133-79a0-4b2b-ac7d-65042434b070"
      },
      "execution_count": null,
      "outputs": [
        {
          "output_type": "stream",
          "name": "stdout",
          "text": [
            "Ingrese el nombre a actualizar vincent\n",
            "Ingrese nuevo nombrevins\n",
            "['vins', 'isabel', 'valerye', 'alejandro', 'david', 'claudia', 'manuel', 'julian']\n"
          ]
        }
      ]
    },
    {
      "cell_type": "code",
      "source": [],
      "metadata": {
        "id": "VbaQQjB2WpZ1"
      },
      "execution_count": null,
      "outputs": []
    }
  ]
}