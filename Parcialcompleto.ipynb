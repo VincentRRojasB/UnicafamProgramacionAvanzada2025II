{
  "nbformat": 4,
  "nbformat_minor": 0,
  "metadata": {
    "colab": {
      "provenance": [],
      "authorship_tag": "ABX9TyPD3++TemPGbQU9j2zlwx3w",
      "include_colab_link": true
    },
    "kernelspec": {
      "name": "python3",
      "display_name": "Python 3"
    },
    "language_info": {
      "name": "python"
    }
  },
  "cells": [
    {
      "cell_type": "markdown",
      "metadata": {
        "id": "view-in-github",
        "colab_type": "text"
      },
      "source": [
        "<a href=\"https://colab.research.google.com/github/VincentRRojasB/UnicafamProgramacionAvanzada2025II/blob/main/Parcialcompleto.ipynb\" target=\"_parent\"><img src=\"https://colab.research.google.com/assets/colab-badge.svg\" alt=\"Open In Colab\"/></a>"
      ]
    },
    {
      "cell_type": "markdown",
      "source": [
        "## Parcial Numero 1 de Programación Avanzada de Vincent R Rojas Bohórquez"
      ],
      "metadata": {
        "id": "s8kXwLaD35e2"
      }
    },
    {
      "cell_type": "code",
      "execution_count": null,
      "metadata": {
        "colab": {
          "base_uri": "https://localhost:8080/"
        },
        "id": "v4ZLhR8I33y0",
        "outputId": "f9d468f8-f1e0-4ff1-e674-12cbcbc26cca"
      },
      "outputs": [
        {
          "output_type": "stream",
          "name": "stdout",
          "text": [
            "Ingrese su nombre: Vincent\n",
            "Hola Vincent\n"
          ]
        }
      ],
      "source": [
        "# 1. Bienvenida con Cadena\n",
        "# Solicitar al usuario su nombre medianate input().\n",
        "nombre_de_usuario=[]\n",
        "nombre_de_usuario=input('Ingrese su nombre: ')\n",
        "print(f'Hola {nombre_de_usuario}')"
      ]
    },
    {
      "cell_type": "code",
      "source": [
        "# 2. Lista de pasatiempos\n",
        "# Crear una lista llamada 'pasatiempos'\n",
        "\n",
        "pasatiempos=[]\n",
        "\n",
        "# Pide al usuario que escriba dos pasatiempos y añadelos a la lista con append().\n",
        "\n",
        "pasatiempo_1=input('Indicame tus dos pasatiempos favoritos')\n",
        "pasatiempos.append(pasatiempo_1)\n",
        "print(f'Genial, tu primer pasatiempo es {pasatiempo_1}')\n",
        "pasatiempo_2=input('Ahora indicame tu segundo pasatiempo favorito')\n",
        "pasatiempos.append(pasatiempo_2)\n",
        "print(f'Tus pasatiempos favoritos son {pasatiempo_1} y {pasatiempo_2}')\n",
        "\n",
        "# Reemplaza el primer pasatiempo por \"Leer\"\n",
        "\n",
        "pasatiempo_1='Leer'\n",
        "print(f'Pero creeria que es mejor si tus dos pasatiempos fueran {pasatiempo_1} y {pasatiempo_2}')\n"
      ],
      "metadata": {
        "colab": {
          "base_uri": "https://localhost:8080/"
        },
        "id": "-RFXSl_37MS6",
        "outputId": "ae49470c-e916-466e-f059-bfa9c7dc56f0"
      },
      "execution_count": null,
      "outputs": [
        {
          "output_type": "stream",
          "name": "stdout",
          "text": [
            "Indicame tus dos pasatiempos favoritoscorrer\n",
            "Genial, tu primer pasatiempo es correr\n",
            "Ahora indicame tu segundo pasatiempo favoritocaminar\n",
            "Tus pasatiempos favoritos son correr y caminar\n",
            "Pero creeria que es mejor si tus dos pasatiempos fueran Leer y caminar\n"
          ]
        }
      ]
    },
    {
      "cell_type": "code",
      "source": [
        "# 3. Tupla de calificaciones\n",
        "# Pide al usuario que ingrese tres calificaciones numéricas y guárdalas en una tupla llamada notas.\n",
        "nota_1 = float(input(\"Primera calificación: \"))\n",
        "nota_2 = float(input(\"Segunda calificación: \"))\n",
        "nota_3 = float(input(\"Tercera calificación: \"))\n",
        "notas = (nota_1, nota_2, nota_3)\n",
        "\n",
        "# Calcula el promedio\n",
        "promedio = (nota_1 + nota_2 + nota_3) / 3\n",
        "print(f\"El promedio es {promedio}\")"
      ],
      "metadata": {
        "colab": {
          "base_uri": "https://localhost:8080/"
        },
        "id": "Rp3265iZ9vwg",
        "outputId": "de8bbea1-ae59-4f61-a870-9e99380e056f"
      },
      "execution_count": null,
      "outputs": [
        {
          "output_type": "stream",
          "name": "stdout",
          "text": [
            "Primera calificación: 4\n",
            "Segunda calificación: 3\n",
            "Tercera calificación: 2\n",
            "El promedio es: 3.0\n"
          ]
        }
      ]
    },
    {
      "cell_type": "code",
      "source": [
        "# 4. Diccionario del usuario\n",
        "# Construimos un diccionario con los datos solicitados\n",
        "edad = int(input(\"¿Que edad tienes?  \"))\n",
        "ciudad = input(\"¿En que ciudad vives?  \")\n",
        "\n",
        "usuario = {\n",
        "    \"nombre\": nombre_de_usuario,\n",
        "    \"edad\": edad,\n",
        "    \"ciudad\": ciudad,\n",
        "    \"pasatiempos\": pasatiempos\n",
        "}"
      ],
      "metadata": {
        "colab": {
          "base_uri": "https://localhost:8080/"
        },
        "id": "X3hqQ7_72pVq",
        "outputId": "8886d5cb-e03c-4880-ff6a-a24b1e03abd3"
      },
      "execution_count": null,
      "outputs": [
        {
          "name": "stdout",
          "output_type": "stream",
          "text": [
            "¿Que edad tienes?  12\n",
            "¿En que ciudad vives?  Bogota\n"
          ]
        }
      ]
    },
    {
      "cell_type": "code",
      "source": [
        "# 5. Condicional con edad\n",
        "if edad >= 18:\n",
        "    print(\"El usuario es mayor de edad\")\n",
        "else:\n",
        "    print(\"El usuario es menor de edad\")"
      ],
      "metadata": {
        "colab": {
          "base_uri": "https://localhost:8080/"
        },
        "id": "673QX5j84ZwX",
        "outputId": "c8d3f662-9473-4234-e516-18441d8f75f5"
      },
      "execution_count": null,
      "outputs": [
        {
          "output_type": "stream",
          "name": "stdout",
          "text": [
            "El usuario es menor de edad\n"
          ]
        }
      ]
    },
    {
      "cell_type": "code",
      "source": [
        "# 6. Cadenas\n",
        "# Muestra el nombre del usuario en mayúsculas.\n",
        "print(nombre_de_usuario.upper())\n",
        "\n",
        "# Del último pasatiempo registrado, imprime únicamente sus 3 primeroscaracteres.\n",
        "subpasatiempo2=pasatiempo_2[0:3]\n",
        "print(subpasatiempo2)"
      ],
      "metadata": {
        "colab": {
          "base_uri": "https://localhost:8080/"
        },
        "id": "cZozKao7GDSc",
        "outputId": "a2a374a1-206e-4260-8a55-65f574a5a5dc"
      },
      "execution_count": null,
      "outputs": [
        {
          "output_type": "stream",
          "name": "stdout",
          "text": [
            "VINCENT R ROJAS B\n",
            "Jug\n"
          ]
        }
      ]
    },
    {
      "cell_type": "code",
      "source": [
        "# 7. Resultado final\n",
        "# Muestra el diccionario usuario completo.\n",
        "print(\"Diccionario completo del usuario:\")\n",
        "print(usuario)\n",
        "\n",
        "# Muestra el promedio de notas\n",
        "print(f\"El promedio es: {promedio}\")"
      ],
      "metadata": {
        "colab": {
          "base_uri": "https://localhost:8080/"
        },
        "id": "m5pxs1Dc4rnt",
        "outputId": "7d0cf60d-4e26-4b3e-9632-29d8bd721593"
      },
      "execution_count": null,
      "outputs": [
        {
          "output_type": "stream",
          "name": "stdout",
          "text": [
            "Diccionario completo del usuario:\n",
            "{'nombre': 'Vincent', 'edad': 12, 'ciudad': 'Bogota', 'pasatiempos': ['correr', 'caminar']}\n",
            "El promedio es: 3.0\n"
          ]
        }
      ]
    },
    {
      "cell_type": "code",
      "source": [],
      "metadata": {
        "id": "X7q5XA9SIRKA"
      },
      "execution_count": null,
      "outputs": []
    }
  ]
}